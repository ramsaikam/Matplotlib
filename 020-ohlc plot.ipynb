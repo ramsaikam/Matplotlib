{
 "cells": [
  {
   "cell_type": "code",
   "execution_count": 12,
   "metadata": {
    "collapsed": false
   },
   "outputs": [],
   "source": [
    "import numpy as np\n",
    "import pandas as pd\n",
    "import matplotlib.pyplot as plt\n",
    "import matplotlib as mpl\n",
    "from matplotlib import dates,ticker\n",
    "from matplotlib.finance import candlestick_ohlc\n",
    "mpl.style.use(\"default\")"
   ]
  },
  {
   "cell_type": "code",
   "execution_count": 2,
   "metadata": {
    "collapsed": false
   },
   "outputs": [
    {
     "data": {
      "text/html": [
       "<div>\n",
       "<table border=\"1\" class=\"dataframe\">\n",
       "  <thead>\n",
       "    <tr style=\"text-align: right;\">\n",
       "      <th></th>\n",
       "      <th>Date</th>\n",
       "      <th>Open</th>\n",
       "      <th>High</th>\n",
       "      <th>Low</th>\n",
       "      <th>Close</th>\n",
       "      <th>Shares Traded</th>\n",
       "      <th>Turnover (Rs. Cr)</th>\n",
       "    </tr>\n",
       "  </thead>\n",
       "  <tbody>\n",
       "    <tr>\n",
       "      <th>0</th>\n",
       "      <td>2017-04-03</td>\n",
       "      <td>9220.6</td>\n",
       "      <td>9245.35</td>\n",
       "      <td>9192.40</td>\n",
       "      <td>9237.85</td>\n",
       "      <td>143444541</td>\n",
       "      <td>8337.06</td>\n",
       "    </tr>\n",
       "    <tr>\n",
       "      <th>1</th>\n",
       "      <td>2017-04-05</td>\n",
       "      <td>9264.4</td>\n",
       "      <td>9273.90</td>\n",
       "      <td>9215.40</td>\n",
       "      <td>9265.15</td>\n",
       "      <td>190529461</td>\n",
       "      <td>11461.96</td>\n",
       "    </tr>\n",
       "    <tr>\n",
       "      <th>2</th>\n",
       "      <td>2017-04-06</td>\n",
       "      <td>9245.8</td>\n",
       "      <td>9267.95</td>\n",
       "      <td>9218.85</td>\n",
       "      <td>9261.95</td>\n",
       "      <td>191937207</td>\n",
       "      <td>10332.60</td>\n",
       "    </tr>\n",
       "    <tr>\n",
       "      <th>3</th>\n",
       "      <td>2017-04-07</td>\n",
       "      <td>9223.7</td>\n",
       "      <td>9250.50</td>\n",
       "      <td>9188.10</td>\n",
       "      <td>9198.30</td>\n",
       "      <td>195918747</td>\n",
       "      <td>10217.13</td>\n",
       "    </tr>\n",
       "    <tr>\n",
       "      <th>4</th>\n",
       "      <td>2017-04-10</td>\n",
       "      <td>9225.6</td>\n",
       "      <td>9225.65</td>\n",
       "      <td>9174.85</td>\n",
       "      <td>9181.45</td>\n",
       "      <td>139968750</td>\n",
       "      <td>8140.08</td>\n",
       "    </tr>\n",
       "  </tbody>\n",
       "</table>\n",
       "</div>"
      ],
      "text/plain": [
       "        Date    Open     High      Low    Close    Shares Traded  \\\n",
       "0 2017-04-03  9220.6  9245.35  9192.40  9237.85        143444541   \n",
       "1 2017-04-05  9264.4  9273.90  9215.40  9265.15        190529461   \n",
       "2 2017-04-06  9245.8  9267.95  9218.85  9261.95        191937207   \n",
       "3 2017-04-07  9223.7  9250.50  9188.10  9198.30        195918747   \n",
       "4 2017-04-10  9225.6  9225.65  9174.85  9181.45        139968750   \n",
       "\n",
       "  Turnover (Rs. Cr)  \n",
       "0           8337.06  \n",
       "1          11461.96  \n",
       "2          10332.60  \n",
       "3          10217.13  \n",
       "4           8140.08  "
      ]
     },
     "execution_count": 2,
     "metadata": {},
     "output_type": "execute_result"
    }
   ],
   "source": [
    "data = pd.read_csv(\"data.csv\",parse_dates=[\"Date\"])\n",
    "data.head()"
   ]
  },
  {
   "cell_type": "code",
   "execution_count": 3,
   "metadata": {
    "collapsed": false
   },
   "outputs": [],
   "source": [
    "data.drop(data.index[17],inplace=True)"
   ]
  },
  {
   "cell_type": "code",
   "execution_count": 4,
   "metadata": {
    "collapsed": false
   },
   "outputs": [],
   "source": [
    "data[\"Shares Traded\"] = data[\"Shares Traded\"].astype(int)"
   ]
  },
  {
   "cell_type": "code",
   "execution_count": 5,
   "metadata": {
    "collapsed": false
   },
   "outputs": [],
   "source": [
    "data[\"Turnover (Rs. Cr)\"] = data[\"Turnover (Rs. Cr)\"].astype(float)"
   ]
  },
  {
   "cell_type": "code",
   "execution_count": 6,
   "metadata": {
    "collapsed": false
   },
   "outputs": [],
   "source": [
    "data[\"Date\"] = data[\"Date\"].apply(lambda x : dates.date2num(x))"
   ]
  },
  {
   "cell_type": "code",
   "execution_count": 7,
   "metadata": {
    "collapsed": false
   },
   "outputs": [
    {
     "name": "stdout",
     "output_type": "stream",
     "text": [
      "<class 'pandas.core.frame.DataFrame'>\n",
      "Int64Index: 27 entries, 0 to 27\n",
      "Data columns (total 7 columns):\n",
      "Date                 27 non-null float64\n",
      "Open                 27 non-null float64\n",
      "High                 27 non-null float64\n",
      "Low                  27 non-null float64\n",
      "Close                27 non-null float64\n",
      "Shares Traded        27 non-null int32\n",
      "Turnover (Rs. Cr)    27 non-null float64\n",
      "dtypes: float64(6), int32(1)\n",
      "memory usage: 1.6 KB\n"
     ]
    }
   ],
   "source": [
    "data.info()"
   ]
  },
  {
   "cell_type": "code",
   "execution_count": 8,
   "metadata": {
    "collapsed": false,
    "scrolled": true
   },
   "outputs": [
    {
     "data": {
      "text/html": [
       "<div>\n",
       "<table border=\"1\" class=\"dataframe\">\n",
       "  <thead>\n",
       "    <tr style=\"text-align: right;\">\n",
       "      <th></th>\n",
       "      <th>Date</th>\n",
       "      <th>Open</th>\n",
       "      <th>High</th>\n",
       "      <th>Low</th>\n",
       "      <th>Close</th>\n",
       "      <th>Shares Traded</th>\n",
       "      <th>Turnover (Rs. Cr)</th>\n",
       "    </tr>\n",
       "  </thead>\n",
       "  <tbody>\n",
       "    <tr>\n",
       "      <th>0</th>\n",
       "      <td>736422.0</td>\n",
       "      <td>9220.6</td>\n",
       "      <td>9245.35</td>\n",
       "      <td>9192.40</td>\n",
       "      <td>9237.85</td>\n",
       "      <td>143444541</td>\n",
       "      <td>8337.06</td>\n",
       "    </tr>\n",
       "    <tr>\n",
       "      <th>1</th>\n",
       "      <td>736424.0</td>\n",
       "      <td>9264.4</td>\n",
       "      <td>9273.90</td>\n",
       "      <td>9215.40</td>\n",
       "      <td>9265.15</td>\n",
       "      <td>190529461</td>\n",
       "      <td>11461.96</td>\n",
       "    </tr>\n",
       "    <tr>\n",
       "      <th>2</th>\n",
       "      <td>736425.0</td>\n",
       "      <td>9245.8</td>\n",
       "      <td>9267.95</td>\n",
       "      <td>9218.85</td>\n",
       "      <td>9261.95</td>\n",
       "      <td>191937207</td>\n",
       "      <td>10332.60</td>\n",
       "    </tr>\n",
       "    <tr>\n",
       "      <th>3</th>\n",
       "      <td>736426.0</td>\n",
       "      <td>9223.7</td>\n",
       "      <td>9250.50</td>\n",
       "      <td>9188.10</td>\n",
       "      <td>9198.30</td>\n",
       "      <td>195918747</td>\n",
       "      <td>10217.13</td>\n",
       "    </tr>\n",
       "    <tr>\n",
       "      <th>4</th>\n",
       "      <td>736429.0</td>\n",
       "      <td>9225.6</td>\n",
       "      <td>9225.65</td>\n",
       "      <td>9174.85</td>\n",
       "      <td>9181.45</td>\n",
       "      <td>139968750</td>\n",
       "      <td>8140.08</td>\n",
       "    </tr>\n",
       "  </tbody>\n",
       "</table>\n",
       "</div>"
      ],
      "text/plain": [
       "       Date    Open     High      Low    Close  Shares Traded  \\\n",
       "0  736422.0  9220.6  9245.35  9192.40  9237.85      143444541   \n",
       "1  736424.0  9264.4  9273.90  9215.40  9265.15      190529461   \n",
       "2  736425.0  9245.8  9267.95  9218.85  9261.95      191937207   \n",
       "3  736426.0  9223.7  9250.50  9188.10  9198.30      195918747   \n",
       "4  736429.0  9225.6  9225.65  9174.85  9181.45      139968750   \n",
       "\n",
       "   Turnover (Rs. Cr)  \n",
       "0            8337.06  \n",
       "1           11461.96  \n",
       "2           10332.60  \n",
       "3           10217.13  \n",
       "4            8140.08  "
      ]
     },
     "execution_count": 8,
     "metadata": {},
     "output_type": "execute_result"
    }
   ],
   "source": [
    "data.head()"
   ]
  },
  {
   "cell_type": "code",
   "execution_count": 9,
   "metadata": {
    "collapsed": false
   },
   "outputs": [],
   "source": [
    "subset = data[[\"Date\",\"Open\",\"High\",\"Low\",\"Close\"]]\n",
    "tuples_for_ohlc = [tuple(x) for x in subset.values]"
   ]
  },
  {
   "cell_type": "code",
   "execution_count": 10,
   "metadata": {
    "collapsed": false
   },
   "outputs": [
    {
     "data": {
      "text/plain": [
       "[(736422.0,\n",
       "  9220.6000000000004,\n",
       "  9245.3500000000004,\n",
       "  9192.3999999999996,\n",
       "  9237.8500000000004),\n",
       " (736424.0,\n",
       "  9264.3999999999996,\n",
       "  9273.8999999999996,\n",
       "  9215.3999999999996,\n",
       "  9265.1499999999996)]"
      ]
     },
     "execution_count": 10,
     "metadata": {},
     "output_type": "execute_result"
    }
   ],
   "source": [
    "tuples_for_ohlc[:2]"
   ]
  },
  {
   "cell_type": "code",
   "execution_count": 11,
   "metadata": {
    "collapsed": false
   },
   "outputs": [
    {
     "data": {
      "image/png": "[encoded data removed]",
      "text/plain": [
       "<matplotlib.figure.Figure at 0x659ec90>"
      ]
     },
     "metadata": {},
     "output_type": "display_data"
    }
   ],
   "source": [
    "fig,ax = plt.subplots()\n",
    "fig.set_figwidth(10)\n",
    "fig.set_figheight(8)\n",
    "\n",
    "\n",
    "dayFormatter =dates.DateFormatter('%d-%b-%Y')\n",
    "candlestick_ohlc(ax,tuples_for_ohlc,width=0.5,colorup=\"g\",colordown=\"r\",alpha = 0.8)\n",
    "ax.xaxis.set_major_formatter(dayFormatter)\n",
    "ax.xaxis.set_major_locator(ticker.MaxNLocator(10))\n",
    "\n",
    "ax.set_xticklabels(data.Date,rotation=30)\n",
    "ax.grid()\n",
    "ax.set_xlabel('Date')\n",
    "ax.set_ylabel('NSE Index')\n",
    "ax.set_title('Historical Data for NIFTY 50 \\nFor the period 01-04-2017 to 15-05-2017')\n",
    "plt.tight_layout()\n",
    "plt.show()\n",
    "plt.show()"
   ]
  },
  {
   "cell_type": "code",
   "execution_count": null,
   "metadata": {
    "collapsed": true
   },
   "outputs": [],
   "source": []
  }
 ],
 "metadata": {
  "kernelspec": {
   "display_name": "Python 3",
   "language": "python",
   "name": "python3"
  },
  "language_info": {
   "codemirror_mode": {
    "name": "ipython",
    "version": 3
   },
   "file_extension": ".py",
   "mimetype": "text/x-python",
   "name": "python",
   "nbconvert_exporter": "python",
   "pygments_lexer": "ipython3",
   "version": "3.6.0"
  }
 },
 "nbformat": 4,
 "nbformat_minor": 2
}
