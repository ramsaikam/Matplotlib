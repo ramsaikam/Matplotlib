{
 "cells": [
  {
   "cell_type": "code",
   "execution_count": 1,
   "metadata": {
    "collapsed": false
   },
   "outputs": [],
   "source": [
    "import numpy as np\n",
    "import matplotlib.pyplot as plt"
   ]
  },
  {
   "cell_type": "code",
   "execution_count": 2,
   "metadata": {
    "collapsed": true
   },
   "outputs": [],
   "source": [
    "y = [1,2,3,4,5,6,7,8,9,10]\n",
    "x1 = [10,20,30,40,50,60,70,80,90,100]\n",
    "x2= [15,22,32,46,70,80,110,120,130,140]"
   ]
  },
  {
   "cell_type": "code",
   "execution_count": 23,
   "metadata": {
    "collapsed": true
   },
   "outputs": [],
   "source": [
    "# values for making ticks in x and y axis\n",
    "ynumbers = [0,2,4,6,8,10,12]\n",
    "x1numbers=[5,15,25,35,45,55,65,75,85,95,105]\n",
    "x2numbers=[15,30,45,60,75,90,105,120,135,150]"
   ]
  },
  {
   "cell_type": "code",
   "execution_count": 30,
   "metadata": {
    "collapsed": false
   },
   "outputs": [
    {
     "data": {
      "image/png": "[encoded data removed]",
      "text/plain": [
       "<matplotlib.figure.Figure at 0x6ff0830>"
      ]
     },
     "metadata": {},
     "output_type": "display_data"
    }
   ],
   "source": [
    "# separate the figure object and axes object from the plotting object\n",
    "fig,ax1 = plt.subplots()\n",
    "\n",
    "\n",
    "# Duplicate the axes with a different x axis and the same y axis\n",
    "ax2 = ax1.twiny()\n",
    "\n",
    "\n",
    "# plot the curves on axes 1, and 2, and get the axes handles\n",
    "curve1, = ax1.plot(x1,y,color = \"red\" ,label = \"hyd\")\n",
    "curve2, = ax2.plot(x2,y,color = \"green\" ,label = \"bangalore\")\n",
    "\n",
    "curves = [curve1,curve2]\n",
    "\n",
    "# add legend via axes 1 or axes 2 object.\n",
    "#ax1.legend()\n",
    "#ax2.legend()\n",
    "#ax1.legend(curves,[curve.get_label()  for curve in curves])\n",
    "ax2.legend(curves,[curve.get_label()  for curve in curves])\n",
    "\n",
    "\n",
    "# x axis labels via the axes\n",
    "ax1.set_xlabel(\"Sales\" ,color = curve1.get_color())\n",
    "ax2.set_xlabel(\"Sales\",color = curve2.get_color())\n",
    "\n",
    "\n",
    "#y_axis label\n",
    "ax1.set_ylabel(\"Days\",color = curve1.get_color())\n",
    "\n",
    "# x axis ticks via the axes\n",
    "ax1.tick_params(axis='x', colors=curve1.get_color())\n",
    "ax2.tick_params(axis='x', colors=curve2.get_color())\n",
    "\n",
    "# x axis ticks \n",
    "ax1.set_xticks(x1numbers)\n",
    "ax2.set_xticks(x2numbers)\n",
    "\n",
    "# y axis ticks\n",
    "ax1.set_yticks(ynumbers)\n",
    "\n",
    "# Grids via axes 1 # use this if axes 1 is used to\n",
    "# define the properties of common x axis\n",
    "#ax1.grid(color=curve1.get_color())\n",
    "\n",
    "# To make grids using axes 2\n",
    "ax1.grid(color=curve2.get_color())\n",
    "ax2.grid(color=curve2.get_color())\n",
    "ax1.xaxis.grid(False)\n",
    "\n",
    "\n",
    "# Global figure properties\n",
    "plt.title(\"Sales vs Days\")\n",
    "plt.show()"
   ]
  },
  {
   "cell_type": "code",
   "execution_count": null,
   "metadata": {
    "collapsed": true
   },
   "outputs": [],
   "source": []
  }
 ],
 "metadata": {
  "kernelspec": {
   "display_name": "Python 3",
   "language": "python",
   "name": "python3"
  },
  "language_info": {
   "codemirror_mode": {
    "name": "ipython",
    "version": 3
   },
   "file_extension": ".py",
   "mimetype": "text/x-python",
   "name": "python",
   "nbconvert_exporter": "python",
   "pygments_lexer": "ipython3",
   "version": "3.6.0"
  }
 },
 "nbformat": 4,
 "nbformat_minor": 2
}
