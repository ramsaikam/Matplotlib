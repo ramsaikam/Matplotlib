{
 "cells": [
  {
   "cell_type": "code",
   "execution_count": 1,
   "metadata": {
    "collapsed": false
   },
   "outputs": [],
   "source": [
    "import numpy as np\n",
    "import matplotlib.pyplot as plt\n",
    "%matplotlib inline"
   ]
  },
  {
   "cell_type": "code",
   "execution_count": 2,
   "metadata": {
    "collapsed": true
   },
   "outputs": [],
   "source": [
    "x = np.array([1,2,3,4,5,6,7,8,9,10])\n",
    "y = np.array([10,20,30,40,50,60,70,80,90,100])\n",
    "z = np.array([15,24,33,47,51,66,77,88,94,103])\n",
    "\n",
    "x_numbers = np.array([1,3,5,7,9,11])\n",
    "y_numbers = np.array([10,30,50,70,90,110])\n",
    "z_numbers = np.array([5,25,45,65,85,105,125])"
   ]
  },
  {
   "cell_type": "code",
   "execution_count": 3,
   "metadata": {
    "collapsed": false
   },
   "outputs": [
    {
     "data": {
      "image/png": "[encoded data removed]",
      "text/plain": [
       "<matplotlib.figure.Figure at 0x59d4cd0>"
      ]
     },
     "metadata": {},
     "output_type": "display_data"
    }
   ],
   "source": [
    "# separate the figure object and axes object from the plotting object\n",
    "fig,ax1 = plt.subplots()\n",
    "\n",
    "# Duplicate the axes with a different y axis and the same x axis\n",
    "ax2 = ax1.twinx()\n",
    "\n",
    "# plot the curves on axes 1, and 2, and get the curve handles\n",
    "curve1, = ax1.plot(x,y,color=\"red\",label = \"Hyd\")\n",
    "curve2, = ax2.plot(x,z,color = \"green\",label =\"Bangalore\")\n",
    "\n",
    "\n",
    "# Make a curves list to access the parameters in the curves\n",
    "curves = [curve1, curve2]\n",
    "\n",
    "# add legend via axes 1 or axes 2 object. one command is usually sufficient\n",
    "# ax1.legend() # will not display the legend of ax2\n",
    "# ax2.legend() # will not display the legend of ax1\n",
    "ax1.legend(curves, [curve.get_label() for curve in curves])\n",
    "# ax2.legend(curves, [curve.get_label() for curve in curves]) # also valid\n",
    "\n",
    "# x axis label via the axes\n",
    "# one command is usually sufficient\n",
    "ax1.set_xlabel(\"Days\", color=curve1.get_color())\n",
    "# ax2.set_xlabel(\"Days\", color=curve2.get_color()) # also valid # does not work\n",
    "# ax2 has no property control over x axis w.r.t. label, grid, and colour\n",
    "\n",
    "\n",
    "# y axis label via the axes\n",
    "ax1.set_ylabel(\"Sales\", color=curve1.get_color())\n",
    "ax2.set_ylabel(\"Sales\", color=curve2.get_color()) # also valid\n",
    "\n",
    "# y ticks - make them coloured as well\n",
    "ax1.tick_params(axis='y', colors=curve1.get_color())\n",
    "ax2.tick_params(axis='y', colors=curve2.get_color())\n",
    "\n",
    "# x axis ticks via the axes\n",
    "# one command is usually sufficient\n",
    "ax1.tick_params(axis='x', colors=curve1.get_color())\n",
    "# ax2.tick_params(axis='x', colors=curve2.get_color()) # also valid # does not work\n",
    "# ax2 has no property control over x axis\n",
    "\n",
    "'''\n",
    "# Alternate approach\n",
    "# colour for x axis labels\n",
    "# since this is common, use global or figure properties\n",
    "ax1.xaxis.label.set_color(curve1.get_color())\n",
    "ax2.xaxis.label.set_color(curve2.get_color()) # also valid\n",
    "# colour for y axis labels\n",
    "ax1.yaxis.label.set_color(curve1.get_color())\n",
    "ax2.yaxis.label.set_color(curve2.get_color())\n",
    "\n",
    "'''\n",
    "# set x ticks\n",
    "# one command is usually sufficient\n",
    "ax1.set_xticks(x_numbers)\n",
    "# ax2.set_xticks(xnumbers) # also valid # surprisingly works\n",
    "\n",
    "# set y ticks\n",
    "ax1.set_yticks(y_numbers)\n",
    "ax2.set_yticks(z_numbers)\n",
    "\n",
    "# Grids via axes 1 # use this if axes 1 is used to\n",
    "# define the properties of common x axis\n",
    "ax1.grid(color=\"yellow\")\n",
    "\n",
    "\n",
    "# To make grids using axes 2\n",
    "# ax1.grid(color=curve2.get_color())\n",
    "# ax2.grid(color=curve2.get_color())\n",
    "# ax1.yaxis.grid(False)\n",
    "\n",
    "plt.title(\"Sales vs Days\")\n",
    "plt.show()"
   ]
  },
  {
   "cell_type": "code",
   "execution_count": null,
   "metadata": {
    "collapsed": true
   },
   "outputs": [],
   "source": []
  }
 ],
 "metadata": {
  "kernelspec": {
   "display_name": "Python 3",
   "language": "python",
   "name": "python3"
  },
  "language_info": {
   "codemirror_mode": {
    "name": "ipython",
    "version": 3
   },
   "file_extension": ".py",
   "mimetype": "text/x-python",
   "name": "python",
   "nbconvert_exporter": "python",
   "pygments_lexer": "ipython3",
   "version": "3.6.0"
  }
 },
 "nbformat": 4,
 "nbformat_minor": 2
}
