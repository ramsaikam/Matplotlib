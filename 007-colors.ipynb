{
 "cells": [
  {
   "cell_type": "code",
   "execution_count": 1,
   "metadata": {
    "collapsed": true
   },
   "outputs": [],
   "source": [
    "import numpy as np\n",
    "import matplotlib.pyplot as plt\n",
    "import matplotlib._color_data as mcd\n",
    "import matplotlib as mpl"
   ]
  },
  {
   "cell_type": "code",
   "execution_count": 2,
   "metadata": {
    "collapsed": true
   },
   "outputs": [],
   "source": [
    "x = np.array([1,2,3,4,5,6,7,8,9,10])\n",
    "y = np.array([12,18,23,33,41,46,51,58,61,66])"
   ]
  },
  {
   "cell_type": "markdown",
   "metadata": {},
   "source": [
    "\n",
    "Colouring options:\n",
    "\n",
    "* one of {'b',    'g',     'r',   'c',    'm',       'y',      'k'    , 'w'}\n",
    "    \n",
    "* one of {'blue', 'green', 'red', 'cyan', 'magenta', 'yellow', 'black', 'white'}\n",
    "    \n",
    "* an RGB or RGBA tuple of float values in [0, 1] (e.g., (0.1, 0.2, 0.5) or (0.1, 0.2, 0.5, 0.3))\n",
    "    \n",
    "* a hex RGB or RGBA string (e.g., '#0F0F0F' or '#0F0F0F0F')\n",
    "    \n",
    "* a string representation of a float value in [0, 1] inclusive for gray level (e.g., '0.5')\n",
    "    \n",
    "* a X11/CSS4 color name\n",
    "    \n",
    "* a name from the xkcd color survey prefixed with 'xkcd:' (e.g., 'xkcd:sky blue')\n",
    "    \n",
    "* one of {'C0', 'C1', 'C2', 'C3', 'C4', 'C5', 'C6', 'C7', 'C8', 'C9'}\n",
    "    \n",
    "* one of {'tab:blue', 'tab:orange', 'tab:green', 'tab:red', 'tab:purple', 'tab:brown','tab:pink', 'tab:gray', 'tab:olive', 'tab:cyan'}\n",
    "            \n",
    "    which are the Tableau Colors from the ‘T10’ categorical palette (which is the default color cycle).\n"
   ]
  },
  {
   "cell_type": "code",
   "execution_count": 3,
   "metadata": {
    "collapsed": false
   },
   "outputs": [
    {
     "data": {
      "image/png": "[encoded data removed]",
      "text/plain": [
       "<matplotlib.figure.Figure at 0x5dee810>"
      ]
     },
     "metadata": {},
     "output_type": "display_data"
    }
   ],
   "source": [
    "#short hand standardcolor notation\n",
    "fig,ax = plt.subplots()\n",
    "ax.plot(x,y,color = \"g\",label = \"Bangalore\") # green\n",
    "\n",
    "#full hand standard notation\n",
    "#ax.plot(x,y,color = \"red\",label = \"Bangalore\")\n",
    "\n",
    "# RGB values: 0 - no colour, 1 - full colour\n",
    "#ax.plot(x,y,color = (0,0,1),label = \"Bangalore\")\n",
    "\n",
    "# RGB normalization - divide each entry by 255\n",
    "#ax.plot(x, y, color=(255/255, 0/255, 0/255), label=\"Bangalore\")\n",
    "\n",
    "# RGBA values: 1 - opaque, 0 - full transparency\n",
    "#ax.plot(x, y, color=(0, 1, 0, 0), label=\"Bangalore\")\n",
    "\n",
    "# RGBA normalization - divide RGB values by 255, and transparency by 100\n",
    "#ax.plot(x, y, color=(0/255, 0/255, 200/255, 80/100), label=\"Bangalore\")\n",
    "\n",
    "# RGB/RGBA hex string values - both upper and lower cases\n",
    "#ax.plot(x, y, color='#B714A9', label=\"Bangalore\")\n",
    "#ax.plot(x, y, color='#b714a945', label=\"Bangalore\")\n",
    "\n",
    "# Gray scale: 0 - black, 1 - white\n",
    "#ax.plot(x, y, color='1', label=\"Bangalore\")\n",
    "\n",
    "# CSS4 Colours\n",
    "#ax.plot(x, y, color=mcd.CSS4_COLORS['chocolate'], label=\"Bangalore\")\n",
    "#ax.plot(x, y, color='chocolate', label=\"Bangalore\")\n",
    "#print(mcd.CSS4_COLORS.items())\n",
    "\n",
    "\n",
    "# Tableau Colours\n",
    "#ax.plot(x, y, color=mcd.TABLEAU_COLORS['tab:olive'], label=\"Bangalore\")\n",
    "#ax.plot(x, y, color='tab:gray', label=\"Bangalore\")\n",
    "#print(mcd.TABLEAU_COLORS.items())\n",
    "\n",
    "# XKCD Colours\n",
    "#ax.plot(x, y, color=mcd.XKCD_COLORS['xkcd:navy blue'], label=\"Bangalore\")\n",
    "#ax.plot(x, y, color='xkcd:navy blue', label=\"Bangalore\")\n",
    "# print(mcd.XKCD_COLORS.items())\n",
    "\n",
    "# Plot style colours\n",
    "# 'C0', 'C1', 'C2', 'C3', 'C4', 'C5', 'C6', 'C7', 'C8', 'C9'\n",
    "#mpl.style.use('ggplot')  #seaborn,default etc\n",
    "#ax.plot(x, y, color='C0', label='Bangalore')\n",
    "# print(mpl.style.available)\n",
    "\n",
    "ax.set_xlabel(\"Days\")\n",
    "ax.set_ylabel(\"Sales\")\n",
    "ax.set_title(\"Days vs Sales\")\n",
    "ax.grid()\n",
    "ax.legend()\n",
    "plt.show()"
   ]
  },
  {
   "cell_type": "code",
   "execution_count": null,
   "metadata": {
    "collapsed": true
   },
   "outputs": [],
   "source": []
  }
 ],
 "metadata": {
  "kernelspec": {
   "display_name": "Python 3",
   "language": "python",
   "name": "python3"
  },
  "language_info": {
   "codemirror_mode": {
    "name": "ipython",
    "version": 3
   },
   "file_extension": ".py",
   "mimetype": "text/x-python",
   "name": "python",
   "nbconvert_exporter": "python",
   "pygments_lexer": "ipython3",
   "version": "3.6.0"
  }
 },
 "nbformat": 4,
 "nbformat_minor": 2
}
