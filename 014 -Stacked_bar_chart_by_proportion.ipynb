{
 "cells": [
  {
   "cell_type": "code",
   "execution_count": 1,
   "metadata": {
    "collapsed": true
   },
   "outputs": [],
   "source": [
    "import numpy as np\n",
    "import matplotlib.pyplot as plt\n",
    "import matplotlib as mpl\n",
    "mpl.style.use(\"default\")\n",
    "%matplotlib inline"
   ]
  },
  {
   "cell_type": "code",
   "execution_count": 2,
   "metadata": {
    "collapsed": true
   },
   "outputs": [],
   "source": [
    "countries = ['USA', 'GB', 'China', 'Russia', 'Germany']\n",
    "bronzes = np.array([38, 17, 26, 19, 15])\n",
    "silvers = np.array([37, 23, 18, 18, 10])\n",
    "golds = np.array([46, 27, 26, 19, 17])\n",
    "numbers = [x for x,_ in enumerate(countries) ]"
   ]
  },
  {
   "cell_type": "code",
   "execution_count": 14,
   "metadata": {
    "collapsed": true
   },
   "outputs": [],
   "source": [
    "total = golds + silvers + bronzes\n",
    "proportion_of_bronzes = np.true_divide(bronzes,total)  * 100\n",
    "proportion_of_silvers = np.true_divide(silvers,total) * 100\n",
    "proportion_of_gold = np.true_divide(golds,total) * 100\n"
   ]
  },
  {
   "cell_type": "code",
   "execution_count": 15,
   "metadata": {
    "collapsed": false
   },
   "outputs": [
    {
     "data": {
      "image/png": "[encoded data removed]",
      "text/plain": [
       "<matplotlib.figure.Figure at 0x468b590>"
      ]
     },
     "metadata": {},
     "output_type": "display_data"
    }
   ],
   "source": [
    "fig,ax = plt.subplots(figsize = (10,8))\n",
    "gold = ax.bar(numbers,proportion_of_gold,label = \"gold\",color = \"gold\",\n",
    "                         bottom=proportion_of_bronzes + proportion_of_silvers,width=0.3)\n",
    "silver = ax.bar(numbers,proportion_of_silvers,label = \"silver\",color = \"silver\",\n",
    "                          bottom=proportion_of_bronzes,width = 0.3)\n",
    "bronze = ax.bar(numbers,proportion_of_bronzes,label = \"bronze\",color = \"#CD853F\",width = 0.3)\n",
    "ax.set_xticks(numbers)\n",
    "ax.set_xticklabels(countries,rotation = 0)\n",
    "ax.set_xlabel(\"Country name\")\n",
    "ax.set_ylabel(\"Medals\")\n",
    "ax.set_title(\"Olympic medals by proportion\")\n",
    "ax.grid()\n",
    "ax.legend()\n",
    "plt.show()"
   ]
  }
 ],
 "metadata": {
  "kernelspec": {
   "display_name": "Python 3",
   "language": "python",
   "name": "python3"
  },
  "language_info": {
   "codemirror_mode": {
    "name": "ipython",
    "version": 3
   },
   "file_extension": ".py",
   "mimetype": "text/x-python",
   "name": "python",
   "nbconvert_exporter": "python",
   "pygments_lexer": "ipython3",
   "version": "3.6.0"
  }
 },
 "nbformat": 4,
 "nbformat_minor": 2
}
